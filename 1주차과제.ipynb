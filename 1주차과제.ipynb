{
  "nbformat": 4,
  "nbformat_minor": 0,
  "metadata": {
    "colab": {
      "name": "1주차과제.ipynb",
      "provenance": [],
      "collapsed_sections": [],
      "authorship_tag": "ABX9TyN8bUo3heFP7vXW3VG3JlF8",
      "include_colab_link": true
    },
    "kernelspec": {
      "name": "python3",
      "display_name": "Python 3"
    }
  },
  "cells": [
    {
      "cell_type": "markdown",
      "metadata": {
        "id": "view-in-github",
        "colab_type": "text"
      },
      "source": [
        "<a href=\"https://colab.research.google.com/github/SeungWookJeon/First_Repository/blob/master/1%EC%A3%BC%EC%B0%A8%EA%B3%BC%EC%A0%9C.ipynb\" target=\"_parent\"><img src=\"https://colab.research.google.com/assets/colab-badge.svg\" alt=\"Open In Colab\"/></a>"
      ]
    },
    {
      "cell_type": "markdown",
      "metadata": {
        "id": "YT08pO9hDtt4",
        "colab_type": "text"
      },
      "source": [
        "# __광주 인공지능 프리코스 1주차 과제__\n",
        "\n",
        "\n",
        "\n",
        "### 인공지능 사례 분석\n",
        "\n",
        "-------------------------------------------\n",
        "\n",
        ">**언어**\n",
        "\n",
        "*#학습 #창조 #이해 #대화*\n",
        "  \n",
        "**AI번역기**\n",
        "\n",
        "- AI번역기술은 각국의 언어별 맥락을 학습하여 번역시 매끄러운 결과를 가져와 이용자에게 이해하기 쉬운 결과를 보여준다.    \n",
        "\n",
        "- 예로 *NAVER*의 **파파고**가 있으며 파파고는 번역시 문화적인 차이에 대해서도 AI기술을 활용하여 매끄러운 결과물을 보여준다. 이는 NAVER의 브이라이브,국내외 네이버웹툰등 자사의 데이터들을 학습데이터로 활용하기 때문이며 그덕분에 높임말,신조어,유행어등에도 강한모습을 보여준다.\n",
        "\n",
        "-------------------------------------------\n",
        "\n",
        ">**음성**\n",
        "\n",
        "*#분석 #인식*\n",
        "\n",
        "**AI비서**\n",
        "\n",
        "\n",
        "- AI비서는 음성인식으로 사람이 컴퓨터에게 음성(자연어)으로 명령을하여 컴퓨터가 이해하고 그것을 수행한다. 여러 학습을 통해 과거 자연어데이터가 부족했을 때 보다 상대적으로 음성에 대한 인식률이 높다.\n",
        "\n",
        "- *KT*의 **GENIE**,  *SKT*의 **NUGU**,  *NAVER*의 **CLOVA**,  *AMAZON*의 **ALEXA**,  *SAMSUNG*의 **BIXBY**,  *APPLE*의 **SIRI**,  *GOOGLE*의 **GOOGLE ASSISTANT**등이 AI비서로 셋톱박스, 핸드폰등에 IOT에 적용되고 있다.\n",
        "\n",
        "-------------------------------------------\n",
        "\n",
        ">**이미지**\n",
        "\n",
        "*#인식 #분석 #처리 #검색 #분류 #확대*\n",
        "\n",
        "**의학**\n",
        "- X-ray, MRI등 환자의 상태를 AI가 판단한다.\n",
        "\n",
        "- 예로는 **Arterys**가 있으며 3D,4D MRI 이미지를 활용하여 환자를 진단한다.\n",
        "\n",
        "**안면 인식**\n",
        "- 골격과 같은 저주파 질감을 통해 모델을 구성한다. 얼굴을 하나의 신분증처럼 활용하는 **보안시스템**, 이미지 정보로 연령,성별등의 데이터를 통해 **광고 마켓팅**에 사용된다. 코로나로 극성인 이시국에 마스크를 쓴 안면인식도 가능하다고 한다.\n",
        "\n",
        "- 예로는 *CyberLink*의 **FaceMe** , *FaceBook*의 **DeepFace**등이 있다.\n",
        "\n",
        "-------------------------------------------\n",
        "\n",
        ">**자율주행**\n",
        "\n",
        "*#사고 #사례 #기술 #자동차*\n",
        "\n",
        "**자율주행차**\n",
        "- 운전자가 조작하지 않아도 자동차가 레이더, LIDAR, GPS, 카메라를 이용해 주행환경을 인식해 스스로 위험을 판단하고 이용자가 정한 목적지로의 주행경로를 스스로 계획하여 스스로 운전하는 자동차를 의미한다.\n",
        "- 미국 교통부 산하 도로교통 안전국(NHTSA)에서는 자동차 자동화레벨을 구분하여 자율주행능력에 레벨을 두었다.\n",
        "- 예로는 AUDI, CADILLAC, TESLA, HYUNDAI등에서 상용화를 위한 연구를 하고있다."
      ]
    }
  ]
}