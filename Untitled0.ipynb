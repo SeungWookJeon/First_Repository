{
  "nbformat": 4,
  "nbformat_minor": 0,
  "metadata": {
    "colab": {
      "name": "Untitled0.ipynb",
      "provenance": [],
      "authorship_tag": "ABX9TyNiU99roS2NXqfyyFyJd/R3",
      "include_colab_link": true
    },
    "kernelspec": {
      "name": "python3",
      "display_name": "Python 3"
    }
  },
  "cells": [
    {
      "cell_type": "markdown",
      "metadata": {
        "id": "view-in-github",
        "colab_type": "text"
      },
      "source": [
        "<a href=\"https://colab.research.google.com/github/SeungWookJeon/First_Repository/blob/master/Untitled0.ipynb\" target=\"_parent\"><img src=\"https://colab.research.google.com/assets/colab-badge.svg\" alt=\"Open In Colab\"/></a>"
      ]
    },
    {
      "cell_type": "markdown",
      "metadata": {
        "id": "o_92CxgTxQou",
        "colab_type": "text"
      },
      "source": [
        ""
      ]
    },
    {
      "cell_type": "code",
      "metadata": {
        "id": "CxnQlfRGsi19",
        "colab_type": "code",
        "colab": {}
      },
      "source": [
        "mystr = \"hello\"\n",
        "myint = 123\n",
        "mylist = [True, False,True]\n",
        "\n",
        "print(type(mystr),type(myint),type(mylist))"
      ],
      "execution_count": 0,
      "outputs": []
    },
    {
      "cell_type": "markdown",
      "metadata": {
        "id": "r6nb-atMvZY0",
        "colab_type": "text"
      },
      "source": [
        "<헤더>\n",
        "#제목\n",
        "###제목\n",
        "#####제목\n",
        "######제목\n",
        "-------------------------------------------\n",
        "<글자>\n",
        "\n",
        "*이텔릭체*\n",
        "\n",
        "_이텔릭체_\n",
        "\n",
        "**아스타와**\n",
        "\n",
        "__언더바는__\n",
        "\n",
        "***똑같아요***\n",
        "\n",
        "__*그쵸?*__\n",
        "\n",
        "*동시에 __사용__ 가능*\n",
        "\n",
        "*모양이 같__아도* 같다__\n",
        "\n",
        "~~취소해주세요~~\n",
        "\n",
        "~이것두요~\n",
        "\n",
        "~~~\n",
        "이건없는건가봐요\n",
        "~~~\n",
        "-------------------------------------------\n",
        "<번호가 없는 리스트>\n",
        "\n",
        "* 첫째 리스트\n",
        "\n",
        "* 둘째 리스트\n",
        "\n",
        " * 둘째 리스트의 첫째 하위 리스트\n",
        "\n",
        " * 둘째 리스트의 둘째 하위 리스트\n",
        "\n",
        "+ 셋째 리스트\n",
        " + 엔터1번\n",
        "  + 엔터2번\n",
        "   + 엔터3번\n",
        "    + 엔터4번\n",
        "     + 엔터5번\n",
        "      - 엔터6번\n",
        "       - 엔터7번\n",
        "        - 엔터8번\n",
        "         - 엔터9번\n",
        "          + 엔터10번\n",
        "           + 엔터11번\n",
        "            + 엔터12번\n",
        "\n",
        "***\n",
        "<번호가 있는 리스트>\n",
        "1. 첫번째 메뉴\n",
        "2. 두번째 메뉴\n",
        " 1. 두번째 메뉴의 첫번째 메뉴\n",
        " 2. 두번째 메뉴의 두번째 메뉴\n",
        "---\n",
        "<블럭인용문자>\n",
        ">블럭인용문자가 뭘까?\n",
        "\n",
        ">이런거구나\n",
        "\n",
        "-------------------------------------------\n",
        "<링크>\n",
        "\n",
        "[구글](https://www.google.com)\n",
        "\n",
        "[네이버](https://www.naver.com)\n",
        "\n",
        "-------------------------------------------\n",
        "<이미지>\n",
        "동일\n",
        "\n",
        "\n",
        "\n",
        "\n",
        "\n",
        "\n"
      ]
    },
    {
      "cell_type": "code",
      "metadata": {
        "id": "AHAkvBZB1fA7",
        "colab_type": "code",
        "colab": {
          "base_uri": "https://localhost:8080/",
          "height": 71
        },
        "outputId": "2453c936-69c5-443b-92f8-44761029291a"
      },
      "source": [
        "name = input('이름을 입력해주세요')\n",
        "num = 1\n",
        "hello(name,num)"
      ],
      "execution_count": 17,
      "outputs": [
        {
          "output_type": "stream",
          "text": [
            "이름을 입력해주세요승욱\n",
            "{1}\n"
          ],
          "name": "stdout"
        },
        {
          "output_type": "execute_result",
          "data": {
            "text/plain": [
              "'환영합니다. 승욱님!'"
            ]
          },
          "metadata": {
            "tags": []
          },
          "execution_count": 17
        }
      ]
    },
    {
      "cell_type": "code",
      "metadata": {
        "id": "m226ybkx1JiS",
        "colab_type": "code",
        "colab": {}
      },
      "source": [
        "#환영인사 함수\n",
        "def hello(name,num):\n",
        "  print({num})\n",
        "  return f'환영합니다. {name}님!'"
      ],
      "execution_count": 0,
      "outputs": []
    }
  ]
}